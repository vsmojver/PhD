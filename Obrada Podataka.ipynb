{
 "cells": [
  {
   "cell_type": "code",
   "execution_count": null,
   "metadata": {},
   "outputs": [],
   "source": [
    "%matplotlib\n",
    "import requests\n",
    "import pandas as pd\n",
    "import collections\n",
    "import csv\n",
    "import matplotlib.pyplot as plt\n",
    "from datetime import datetime\n",
    "import numpy as np\n",
    "from itertools import groupby\n",
    "import seaborn as sns\n",
    "sns.set()\n",
    "#plt.style.use('seaborn-whitegrid')\n"
   ]
  },
  {
   "cell_type": "code",
   "execution_count": null,
   "metadata": {},
   "outputs": [],
   "source": [
    "#ucitavanja podataka koje eksportira lens\n",
    "url=\"D:\\\\Google Drive\\\\Doktorski\\\\Datasets\\\\Car Headlights\\\\Car Headlights.xlsx\"\n",
    "#url='D:\\\\Google Drive\\\\Doktorski\\\\Datasets\\\\Datasets 2021\\\\Bicycle\\\\Bicycle.xlsx'\n",
    "#Url za na poslu\n",
    "\"url_p=U:\\\\Radni\\\\Datasets\\\\Blockchain.xlsx\"\n",
    "    \n",
    "data=pd.read_excel(url)"
   ]
  },
  {
   "cell_type": "code",
   "execution_count": null,
   "metadata": {},
   "outputs": [],
   "source": [
    "#ciscenje podataka i brisanje stupaca koji su bespotrebni\n",
    "data.drop(['Kind', 'Lens ID','Priority Numbers','URL','Type','Full Text', 'Cited Count', 'Sequence Count'], axis=1)\n",
    "#Tu bi jos bilo zanimljivo odvojiti klasifikacijske kodove\n"
   ]
  },
  {
   "cell_type": "code",
   "execution_count": null,
   "metadata": {},
   "outputs": [],
   "source": [
    "#PLOTANJE S KRIVULJE - TLC ANALIZA (mozda dvije analize, po godinama i datumu)\n",
    "years=data['Publication Year']\n",
    "years_plot=years.value_counts(sort=False).to_frame()\n",
    "years_plot['Sum']=0\n",
    "years_plot.iloc[0,1]=years_plot.iloc[0,0]\n",
    "for i in range(1, len(years_plot.index)):                                          #petlja koja sumira broj patenata po godini\n",
    "    years_plot.iloc[i,1]=years_plot.iloc[i-1,1]+years_plot.iloc[i,0]\n",
    "\n",
    "years_plot.drop('Publication Year', axis=1, inplace=True)    \n",
    "\n",
    "x=np.arange(0,len(years_plot),1)\n",
    "fig, ax =plt.subplots(1,1)\n",
    "ax.plot(x, years_plot['Sum'])\n",
    "ax.set_xticks(x)\n",
    "ax.set_xticklabels(years_plot.index.values)\n",
    "plt.xticks(rotation=90)\n",
    "plt.show()"
   ]
  },
  {
   "cell_type": "code",
   "execution_count": null,
   "metadata": {},
   "outputs": [],
   "source": [
    "#Kvartali (za nove tehnologije) Treba u tablicu dodat prazne periode \n",
    "qua=data['Application Date']\n",
    "qua_plot=qua.to_frame()\n",
    "qua_plot['Quarter']=pd.PeriodIndex(qua_plot['Application Date'], freq='Q') #kreiranje kvartala iz datuma\n",
    "qua_plot=qua_plot['Quarter'].value_counts(sort=False).to_frame()            #count po kvartalu\n",
    "qua_plot=qua_plot.sort_index()                                             #Sortira po kvartalima\n",
    "\n",
    "qua_plot['Sum']=0\n",
    "qua_plot.iloc[0,1]=qua_plot.iloc[0,0]\n",
    "\n",
    "for i in range(1,len(qua_plot.index)):                                     #sumira broj patenata\n",
    "    qua_plot.iloc[i,1]=qua_plot.iloc[i-1,1]+qua_plot.iloc[i,0]\n",
    "\n",
    "qua_plot.drop('Quarter', axis=1, inplace=True)\n",
    "\n",
    "x=np.arange(0, len(qua_plot),1)\n",
    "fig, ax=plt.subplots(1,1)\n",
    "ax.plot(x, qua_plot['Sum'])\n",
    "ax.set_xticks(x)\n",
    "ax.set_xticklabels(qua_plot.index.values, rotation='vertical')\n",
    "plt.show()"
   ]
  },
  {
   "cell_type": "code",
   "execution_count": null,
   "metadata": {},
   "outputs": [],
   "source": [
    "#TESTNI PROZOR\n",
    "test=data['Application Date']\n",
    "test=test.to_frame()\n",
    "test['Quarter']=pd.PeriodIndex(test['Application Date'], freq='Q')\n",
    "temp=pd.PeriodIndex(start=test['Application Date'][0], end=test['Application Date'][len(test.index)-1], freq='Q')\n",
    "df=pd.DataFrame(index=temp)\n",
    "#df['A']=0\n",
    "df.index.names = ['Quarter']\n",
    "test=test.set_index('Quarter')\n",
    "df.index=df.index.to_series().astype(str) #mijenja indekse is period index u string da se mogu spojit\n",
    "test.index=test.index.to_series().astype(str)\n",
    "\n",
    "joined=df.join(test, how='outer')\n",
    "joined['Quarter']=joined.index\n",
    "joined['Temp']=0\n",
    "\n",
    "for i in range(0,len(joined.index)):\n",
    "    if type(joined.iloc[i,0])== pd._libs.tslib.Timestamp:\n",
    "            joined.iloc[i,2]=1\n",
    "joined\n",
    "\n"
   ]
  },
  {
   "cell_type": "code",
   "execution_count": null,
   "metadata": {},
   "outputs": [],
   "source": [
    "#Analiza applicants\n",
    "s=list()\n",
    "appli=data['Applicants'].appli.str.split(';;', expand=True)  #Kreira data set sa applicants, \n",
    "                                                            # Proširuje (applicants su unutar columna odvojeni s ';;')\n",
    "\n",
    "for a in range(0, len(appli.index)):  #Kreira listu sa svim applicantima\n",
    "    for b in range(0, len(appli.columns)):\n",
    "        s.append(appli.iloc[a,b])\n",
    "s=pd.Series(list(filter(None, s))) #cisti None is liste i pretvara ju u series\n",
    "\n",
    "temp=s.value_counts(sort=True).to_frame(name='Count') # Count applicants \n",
    "appli_plot=temp.drop(temp[temp.Count < 5].index)      #Ovo iz liste applicanta izbaci sve koji imaju manje od 5 patentata\n",
    "                                                      # 5 je odabrano proizvoljno, cilj je dobiti uvid u najvece igrace     \n",
    "    \n",
    "fix, ax=plt.subplots()                              #plota bar plot Applicant-Count\n",
    "plt.bar(appli_plot.index, appli_plot['Count'])\n",
    "plt.xticks(rotation='vertical')   \n",
    "plt.subplots_adjust(bottom=0.50)                    #osigurava da se ne odreze oznaka applicanta\n",
    "plt.show()\n"
   ]
  },
  {
   "cell_type": "code",
   "execution_count": null,
   "metadata": {},
   "outputs": [],
   "source": [
    "#Analiza Inventors (analognlo analizi applicants)\n",
    "\n",
    "s1=list()\n",
    "inv=data['Inventors'].str.split(';;', expand=True) \n",
    "\n",
    "for a in range(0, len(inv.index)):  #Kreira listu sa svim applicantima\n",
    "    for b in range(0, len(inv.columns)):\n",
    "        s1.append(inv.iloc[a,b])\n",
    "        \n",
    "s1=pd.Series(list(filter(None, s1)))\n",
    "\n",
    "temp1=s1.value_counts(sort=True).to_frame(name='Count') \n",
    "inv_plot=temp1.drop(temp1[temp1.Count < 5].index)   \n",
    "\n",
    "\n",
    "fix, ax=plt.subplots()                              \n",
    "plt.bar(inv_plot.index, inv_plot['Count'])\n",
    "plt.xticks(rotation='vertical')   \n",
    "plt.subplots_adjust(bottom=0.50)                    #neki cudni tickovi na y osi, popeglaj to malo\n",
    "plt.show()\n"
   ]
  },
  {
   "cell_type": "code",
   "execution_count": null,
   "metadata": {},
   "outputs": [],
   "source": [
    "# klasifikacijski kodovi CPC\n",
    "cpc=data['CPC Classifications'].str.split(';;', expand=True)\n"
   ]
  },
  {
   "cell_type": "code",
   "execution_count": null,
   "metadata": {},
   "outputs": [],
   "source": [
    "# klasifikacijski kodovi IPC\n",
    "ipc=data['IPCR Classifications'].str.split(';;', expand=True)\n",
    "ipc=ipc.apply(lambda x: x.str.slice(0,4))  #ovo zadrzi samo prvih n (4) znamenaka klasifikacijskog koda\n",
    "\n",
    "#broj kodova po patentu\n",
    "ipc['Sum']=ipc.apply(lambda x: x.count(), axis=1)  #sumira broj kodova po patentu\n",
    "ipc['Sum']=ipc['Sum'].astype(int)\n",
    "\n",
    "\n",
    "print('Largest number of classification codes per one patent:' , ipc['Sum'].max())\n",
    "print('Most frequent number of classification codes per one patent', ipc['Sum'].mode())\n",
    "print('Average number of classification codes per one patent', ipc['Sum'].mean())\n",
    "\n",
    "fig, ax1=plt.subplots()\n",
    "ax1.hist(ipc['Sum'], bins=np.arange(ipc['Sum'].min()-1,ipc['Sum'].max()+1), rwidth=0.9)\n",
    "ax1.set_title('Frequency of number of classfication codes')\n",
    "ax1.set_ylabel('Frequency')\n",
    "ax1.set_xlabel('Number of classification codes in patent')\n",
    "ax1.set_xlim(ipc['Sum'].min(), ipc['Sum'].max())\n",
    "plt.xticks(range(ipc['Sum'].max()+1))   #mozda bi trebalo pomaknut plot na sredinu\n",
    "fig.tight_layout()\n",
    "\n",
    "\n",
    "\n",
    "\n",
    "#Patent breadth: total number of IPC codes/number of examined patents\n",
    "ipc_set=set()\n",
    "for a in range(0, len(ipc.index)):\n",
    "    for b in range(0, len(ipc.columns)):\n",
    "        ipc_set.add(ipc.iloc[a,b])\n",
    "\n",
    "ipc_set=pd.Series(list(filter(None, ipc_set)))\n",
    "\n",
    "\n"
   ]
  },
  {
   "cell_type": "code",
   "execution_count": null,
   "metadata": {},
   "outputs": [],
   "source": []
  },
  {
   "cell_type": "code",
   "execution_count": null,
   "metadata": {},
   "outputs": [],
   "source": []
  },
  {
   "cell_type": "code",
   "execution_count": null,
   "metadata": {},
   "outputs": [],
   "source": []
  }
 ],
 "metadata": {
  "kernelspec": {
   "display_name": "Python 3",
   "language": "python",
   "name": "python3"
  },
  "language_info": {
   "codemirror_mode": {
    "name": "ipython",
    "version": 3
   },
   "file_extension": ".py",
   "mimetype": "text/x-python",
   "name": "python",
   "nbconvert_exporter": "python",
   "pygments_lexer": "ipython3",
   "version": "3.6.7"
  }
 },
 "nbformat": 4,
 "nbformat_minor": 2
}
