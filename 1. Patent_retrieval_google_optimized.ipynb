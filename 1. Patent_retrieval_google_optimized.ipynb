{
 "cells": [
  {
   "cell_type": "code",
   "execution_count": null,
   "id": "8ced9a22",
   "metadata": {},
   "outputs": [],
   "source": [
    "import requests\n",
    "from bs4 import BeautifulSoup\n",
    "import pandas as pd\n",
    "import collections\n",
    "import html5lib\n",
    "import sys"
   ]
  },
  {
   "cell_type": "code",
   "execution_count": null,
   "id": "58c57fed",
   "metadata": {},
   "outputs": [],
   "source": [
    "# Path to the file containing URLs\n",
    "url_file_path=\"C:\\\\Users\\\\vsmoj\\\\url.txt\"\n",
    "# Base URL for Google Patents\n",
    "base_url = \"https://patents.google.com/patent/\""
   ]
  },
  {
   "cell_type": "code",
   "execution_count": null,
   "id": "981cd2cd",
   "metadata": {},
   "outputs": [],
   "source": [
    "# Read all URLs into a list, removing trailing whitespace\n",
    "with open(url_file_path, 'r') as urlovi:\n",
    "    urls = [url.strip() for url in urlovi]"
   ]
  },
  {
   "cell_type": "code",
   "execution_count": null,
   "id": "22d3b563",
   "metadata": {},
   "outputs": [],
   "source": [
    "# List to store scraped data\n",
    "data_list = []"
   ]
  },
  {
   "cell_type": "code",
   "execution_count": null,
   "id": "116aedb5",
   "metadata": {},
   "outputs": [],
   "source": [
    "for counter in urls:\n",
    "    print(counter)\n",
    "    \n",
    "    full_url = base_url + counter\n",
    "    try:\n",
    "        r = requests.get(full_url)\n",
    "        r.raise_for_status() # Will raise an exception if the response indicates an unsuccessful HTTP request\n",
    "    except requests.exceptions.RequestException as e: \n",
    "        print (\"missing url\", e)\n",
    "        continue\n",
    "\n",
    "    soup = BeautifulSoup(r.content, \"html5lib\")\n",
    "    data_in = collections.OrderedDict()\n",
    "    data_in[\"Patenti\"] = counter\n",
    "    alla = soup.find_all(\"tr\",{\"itemprop\":\"backwardReferencesOrig\"})\n",
    "\n",
    "    \n",
    "    data_in.update({f\"Citation_in{i+1}\": ref.find(\"a\").text.strip() for i, ref in enumerate(alla)})\n",
    "\n",
    "    data_list.append(data_in)"
   ]
  },
  {
   "cell_type": "code",
   "execution_count": null,
   "id": "e08e1ba3",
   "metadata": {},
   "outputs": [],
   "source": [
    "# Create DataFrame and replace newline characters with spaces\n",
    "data_frame = pd.DataFrame(data_list)\n",
    "data_frame = data_frame.replace('\\n',' ', regex=True)"
   ]
  },
  {
   "cell_type": "code",
   "execution_count": null,
   "id": "5dee08ab",
   "metadata": {},
   "outputs": [],
   "source": [
    "# Write DataFrame to a CSV file\n",
    "data_frame.to_csv('neuromorphic_backward_sve.csv')"
   ]
  },
  {
   "cell_type": "code",
   "execution_count": null,
   "id": "9f0e33b1",
   "metadata": {},
   "outputs": [],
   "source": []
  }
 ],
 "metadata": {
  "kernelspec": {
   "display_name": "Python 3 (ipykernel)",
   "language": "python",
   "name": "python3"
  },
  "language_info": {
   "codemirror_mode": {
    "name": "ipython",
    "version": 3
   },
   "file_extension": ".py",
   "mimetype": "text/x-python",
   "name": "python",
   "nbconvert_exporter": "python",
   "pygments_lexer": "ipython3",
   "version": "3.9.13"
  }
 },
 "nbformat": 4,
 "nbformat_minor": 5
}
