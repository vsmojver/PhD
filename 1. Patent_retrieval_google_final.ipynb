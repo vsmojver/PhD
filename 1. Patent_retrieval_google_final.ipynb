{
 "cells": [
  {
   "cell_type": "code",
   "execution_count": null,
   "metadata": {
    "ExecuteTime": {
     "end_time": "2019-07-22T20:40:14.700063Z",
     "start_time": "2019-07-22T20:40:14.684440Z"
    }
   },
   "outputs": [],
   "source": [
    "import requests\n",
    "from bs4 import BeautifulSoup\n",
    "import pandas as pd\n",
    "import collections\n",
    "import csv\n",
    "from time import sleep\n",
    "from random import randint\n",
    "import html5lib\n",
    "import sys"
   ]
  },
  {
   "cell_type": "code",
   "execution_count": null,
   "metadata": {
    "ExecuteTime": {
     "end_time": "2019-07-22T20:40:15.762485Z",
     "start_time": "2019-07-22T20:40:15.746872Z"
    }
   },
   "outputs": [],
   "source": [
    "url=\"\"\n",
    "urlovi=open(url,'r')\n",
    "urls = urlovi.readlines()"
   ]
  },
  {
   "cell_type": "code",
   "execution_count": null,
   "metadata": {
    "ExecuteTime": {
     "end_time": "2019-07-22T20:40:16.746790Z",
     "start_time": "2019-07-22T20:40:16.731175Z"
    }
   },
   "outputs": [],
   "source": [
    "#print(soup.prettify())\n",
    "list1=[]"
   ]
  },
  {
   "cell_type": "code",
   "execution_count": null,
   "metadata": {
    "ExecuteTime": {
     "end_time": "2019-07-22T22:48:43.181232Z",
     "start_time": "2019-07-22T20:40:28.997939Z"
    }
   },
   "outputs": [],
   "source": [
    "for counter in urls:\n",
    "    print(counter)\n",
    "    #sleep(randint(6,10))\n",
    "    http=\"https://patents.google.com/patent/\"+counter+\"\"\n",
    "    try:\n",
    "        r=requests.get(http.replace(\"\\n\", \"\")) #TO JE TO, treba maknut /n iz url\n",
    "    except requests.exceptions.RequestException as e: \n",
    "        print (\"missing url\")\n",
    "        print (e)\n",
    "    c=r.content\n",
    "    soup=BeautifulSoup(c, \"html5lib\")\n",
    "    data_in=collections.OrderedDict()\n",
    "    data_in[\"Patenti\"]=counter\n",
    "    alla=soup.find_all(\"tr\",{\"itemprop\":\"backwardReferencesOrig\"})\n",
    "    #print(alla)\n",
    "    for l in range(0,len(alla)):\n",
    "        data_in[\"Citation_in\" + str(l+1)]=alla[l].find(\"a\").text.replace(\"\\n\", \"\").replace(\" \",\"\") \n",
    "    list1.append(data_in)\n"
   ]
  },
  {
   "cell_type": "code",
   "execution_count": null,
   "metadata": {
    "ExecuteTime": {
     "end_time": "2019-07-22T22:49:02.836148Z",
     "start_time": "2019-07-22T22:48:43.399941Z"
    }
   },
   "outputs": [],
   "source": [
    "list1=pd.DataFrame(list1)\n",
    "list1=list1.replace('\\n',' ', regex=True)"
   ]
  },
  {
   "cell_type": "code",
   "execution_count": null,
   "metadata": {
    "ExecuteTime": {
     "end_time": "2019-07-22T22:49:03.054885Z",
     "start_time": "2019-07-22T22:49:03.023623Z"
    }
   },
   "outputs": [],
   "source": [
    "list1.tail()"
   ]
  },
  {
   "cell_type": "code",
   "execution_count": null,
   "metadata": {
    "ExecuteTime": {
     "end_time": "2019-07-22T22:49:04.961020Z",
     "start_time": "2019-07-22T22:49:03.148642Z"
    }
   },
   "outputs": [],
   "source": [
    "list1.to_csv('adman_backward_sve.csv')"
   ]
  },
  {
   "cell_type": "code",
   "execution_count": null,
   "metadata": {},
   "outputs": [],
   "source": [
    "\n"
   ]
  },
  {
   "cell_type": "code",
   "execution_count": null,
   "metadata": {},
   "outputs": [],
   "source": []
  },
  {
   "cell_type": "code",
   "execution_count": null,
   "metadata": {},
   "outputs": [],
   "source": [
    "#ok, znaci stvar je u tome sto prva tri UL imaju \\n na kraju i to ga ocito zbuni"
   ]
  }
 ],
 "metadata": {
  "hide_input": false,
  "kernelspec": {
   "display_name": "Python 3",
   "language": "python",
   "name": "python3"
  },
  "language_info": {
   "codemirror_mode": {
    "name": "ipython",
    "version": 3
   },
   "file_extension": ".py",
   "mimetype": "text/x-python",
   "name": "python",
   "nbconvert_exporter": "python",
   "pygments_lexer": "ipython3",
   "version": "3.6.7"
  },
  "toc": {
   "base_numbering": 1,
   "nav_menu": {},
   "number_sections": true,
   "sideBar": true,
   "skip_h1_title": false,
   "title_cell": "Table of Contents",
   "title_sidebar": "Contents",
   "toc_cell": false,
   "toc_position": {},
   "toc_section_display": true,
   "toc_window_display": false
  },
  "varInspector": {
   "cols": {
    "lenName": 16,
    "lenType": 16,
    "lenVar": 40
   },
   "kernels_config": {
    "python": {
     "delete_cmd_postfix": "",
     "delete_cmd_prefix": "del ",
     "library": "var_list.py",
     "varRefreshCmd": "print(var_dic_list())"
    },
    "r": {
     "delete_cmd_postfix": ") ",
     "delete_cmd_prefix": "rm(",
     "library": "var_list.r",
     "varRefreshCmd": "cat(var_dic_list()) "
    }
   },
   "types_to_exclude": [
    "module",
    "function",
    "builtin_function_or_method",
    "instance",
    "_Feature"
   ],
   "window_display": false
  }
 },
 "nbformat": 4,
 "nbformat_minor": 2
}
