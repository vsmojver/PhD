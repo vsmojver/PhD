{
 "cells": [
  {
   "cell_type": "code",
   "execution_count": 13,
   "id": "3c7f5464",
   "metadata": {},
   "outputs": [
    {
     "name": "stdout",
     "output_type": "stream",
     "text": [
      "Using matplotlib backend: QtAgg\n"
     ]
    }
   ],
   "source": [
    "%matplotlib\n",
    "import pandas as pd\n",
    "import numpy as np\n",
    "import pickle\n",
    "import seaborn as sns\n",
    "import matplotlib.pyplot as plt\n",
    "sns.set()"
   ]
  },
  {
   "cell_type": "code",
   "execution_count": 4,
   "id": "50815414",
   "metadata": {},
   "outputs": [],
   "source": [
    "url_doma='C:\\\\Users\\\\vsmoj\\\\neuromorphic_backward_sve.csv'"
   ]
  },
  {
   "cell_type": "code",
   "execution_count": 5,
   "id": "896acd8b",
   "metadata": {},
   "outputs": [],
   "source": [
    "data=pd.read_csv(url_doma, index_col=0, low_memory=False)"
   ]
  },
  {
   "cell_type": "code",
   "execution_count": 6,
   "id": "2ad996dc",
   "metadata": {},
   "outputs": [],
   "source": [
    "# Remove last 4 characters from each patent citation\n",
    "data.iloc[:, 1:] = data.iloc[:, 1:].applymap(lambda x: str(x)[:-4] if pd.notnull(x) else None)\n",
    "data.fillna(value=np.nan, inplace=True)"
   ]
  },
  {
   "cell_type": "code",
   "execution_count": 7,
   "id": "b1eee118",
   "metadata": {},
   "outputs": [
    {
     "name": "stdout",
     "output_type": "stream",
     "text": [
      "8920\n"
     ]
    }
   ],
   "source": [
    "# Number of unique patents (nodes)\n",
    "unique_patents = set(data.values.flatten()) - {np.nan}\n",
    "np = len(unique_patents)\n",
    "print(np)"
   ]
  },
  {
   "cell_type": "code",
   "execution_count": 8,
   "id": "bc14a39c",
   "metadata": {},
   "outputs": [
    {
     "name": "stdout",
     "output_type": "stream",
     "text": [
      "30598\n"
     ]
    }
   ],
   "source": [
    "# Number of references (edges)\n",
    "mp = data.count().sum() - len(data.index)\n",
    "print(mp)"
   ]
  },
  {
   "cell_type": "code",
   "execution_count": 9,
   "id": "148a4551",
   "metadata": {},
   "outputs": [],
   "source": [
    "# Constant\n",
    "p = len(data.index)\n",
    "c = (mp - np) / p\n"
   ]
  },
  {
   "cell_type": "code",
   "execution_count": 10,
   "id": "7a5487f8",
   "metadata": {},
   "outputs": [],
   "source": [
    "list1 = []\n",
    "unique_patents_step = set()\n",
    "mi = 0\n",
    "n = 0\n",
    "for _, row in data.iterrows():\n",
    "    valid_values = row.dropna().unique()\n",
    "    mi += len(valid_values) - 1\n",
    "    new_nodes = set(valid_values) - unique_patents_step\n",
    "    n += len(new_nodes)\n",
    "    unique_patents_step.update(new_nodes)\n",
    "    q = mi - n\n",
    "    deltaqi = (_ + 1) * c - q\n",
    "    list1.append(deltaqi)"
   ]
  },
  {
   "cell_type": "code",
   "execution_count": 14,
   "id": "99cbfb0e",
   "metadata": {},
   "outputs": [
    {
     "data": {
      "text/plain": [
       "[<matplotlib.lines.Line2D at 0x28b37e04a60>]"
      ]
     },
     "execution_count": 14,
     "metadata": {},
     "output_type": "execute_result"
    }
   ],
   "source": [
    "fig, ax =plt.subplots(1,1)\n",
    "ax.plot(list1)"
   ]
  },
  {
   "cell_type": "code",
   "execution_count": 11,
   "id": "ddcad536",
   "metadata": {},
   "outputs": [],
   "source": [
    "with open('car_headlights.pkl', 'wb') as f:\n",
    "    pickle.dump(list1, f, pickle.HIGHEST_PROTOCOL)"
   ]
  },
  {
   "cell_type": "code",
   "execution_count": null,
   "id": "94af07fd",
   "metadata": {},
   "outputs": [],
   "source": []
  }
 ],
 "metadata": {
  "kernelspec": {
   "display_name": "Python 3 (ipykernel)",
   "language": "python",
   "name": "python3"
  },
  "language_info": {
   "codemirror_mode": {
    "name": "ipython",
    "version": 3
   },
   "file_extension": ".py",
   "mimetype": "text/x-python",
   "name": "python",
   "nbconvert_exporter": "python",
   "pygments_lexer": "ipython3",
   "version": "3.9.13"
  }
 },
 "nbformat": 4,
 "nbformat_minor": 5
}
