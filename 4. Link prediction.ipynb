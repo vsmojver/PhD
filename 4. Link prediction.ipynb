{
 "cells": [
  {
   "cell_type": "code",
   "execution_count": null,
   "metadata": {
    "ExecuteTime": {
     "end_time": "2019-08-09T17:05:56.650655Z",
     "start_time": "2019-08-09T17:05:51.560067Z"
    }
   },
   "outputs": [],
   "source": [
    "import csv\n",
    "import pandas as pd\n",
    "import networkx as nx\n"
   ]
  },
  {
   "cell_type": "code",
   "execution_count": null,
   "metadata": {
    "ExecuteTime": {
     "end_time": "2019-08-09T17:05:58.145667Z",
     "start_time": "2019-08-09T17:05:58.142668Z"
    }
   },
   "outputs": [],
   "source": [
    "# url dataseta za link predikciju\n",
    "url = \"C:\\\\...\\\\NH_edges_800-900.csv\"\n"
   ]
  },
  {
   "cell_type": "code",
   "execution_count": null,
   "metadata": {
    "ExecuteTime": {
     "end_time": "2019-08-09T17:06:18.959644Z",
     "start_time": "2019-08-09T17:05:59.072049Z"
    }
   },
   "outputs": [],
   "source": [
    "#ucitavanje dataseta za link predikciju\n",
    "G=nx.read_edgelist(url, delimiter=',') #pazi na delimiter. Tu nekad baci cudni error, moras napravit konverziju liste opet\n",
    "print(nx.info(G))\n"
   ]
  },
  {
   "cell_type": "code",
   "execution_count": null,
   "metadata": {},
   "outputs": [],
   "source": [
    "#LINK PREDICTION ALGORITHMS - resource_allocation_index\n",
    "preds_rai=nx.resource_allocation_index(G)\n",
    "pref=list(preds_rai)\n"
   ]
  },
  {
   "cell_type": "code",
   "execution_count": null,
   "metadata": {},
   "outputs": [],
   "source": [
    "#LINK PREDICTION ALGORITHMS - preferential_attachment\n",
    "preds_pref=nx.preferential_attachment(G)\n",
    "pref=list(preds_pref)"
   ]
  },
  {
   "cell_type": "code",
   "execution_count": null,
   "metadata": {
    "ExecuteTime": {
     "end_time": "2019-08-09T16:11:12.401472Z",
     "start_time": "2019-08-09T16:11:12.385854Z"
    }
   },
   "outputs": [],
   "source": [
    "pref"
   ]
  },
  {
   "cell_type": "code",
   "execution_count": null,
   "metadata": {},
   "outputs": [],
   "source": [
    "# ispis u csv. Ako odmah konvertiras u pandas, srusit ce se zbog memorije\n",
    "with open(\"headlights_1000-9000_pref.csv\", \"w\") as f:\n",
    "    writer = csv.writer(f)\n",
    "    writer.writerows(pref)"
   ]
  },
  {
   "cell_type": "code",
   "execution_count": null,
   "metadata": {
    "ExecuteTime": {
     "end_time": "2019-08-09T16:00:48.393417Z",
     "start_time": "2019-08-09T16:00:48.384417Z"
    }
   },
   "outputs": [],
   "source": [
    "# VERIFIKACIJA\n",
    "# ucitavanje rezultata, chunksize odlican za ucitavanje velikog data seta\n",
    "# skripta ucita CSV i pretovori ga u pandas\n",
    "# potrebno za filtriranje rezultata\n",
    "\n",
    "url_r = \"C:\\\\..\\\\headlights_1000-9000_pref.csv\"\n",
    "chunksize = 1000000\n",
    "chunks = []\n",
    "counter=0\n",
    "for chunk in pd.read_csv(url_r, delimiter=',', chunksize=chunksize, header=0, names=['patent1', 'patent2', 'weight'], low_memory=False):\n",
    "    chunks.append(chunk)\n",
    "    counter+=1\n",
    "    print(counter)\n",
    "df = pd.concat(chunks, axis=0)\n"
   ]
  },
  {
   "cell_type": "code",
   "execution_count": null,
   "metadata": {},
   "outputs": [],
   "source": [
    "temp=df[df.weight>0] #za ciscenje velikih datasetova"
   ]
  },
  {
   "cell_type": "code",
   "execution_count": null,
   "metadata": {},
   "outputs": [],
   "source": [
    "df.max()"
   ]
  },
  {
   "cell_type": "code",
   "execution_count": null,
   "metadata": {},
   "outputs": [],
   "source": [
    "# filtriranje rezultata\n",
    "pref_cleaned = df[df.weight >226154]\n",
    "pref_cleaned.info()"
   ]
  },
  {
   "cell_type": "code",
   "execution_count": null,
   "metadata": {},
   "outputs": [],
   "source": [
    "# stvaranje novog csv-a s ociscenim rezultatima\n",
    "pref_cleaned.to_csv('headlights_1000-9000_pref_cleaned.csv')"
   ]
  },
  {
   "cell_type": "code",
   "execution_count": null,
   "metadata": {},
   "outputs": [],
   "source": [
    "#--------------------------------------------------------------------------------------------------"
   ]
  },
  {
   "cell_type": "code",
   "execution_count": null,
   "metadata": {},
   "outputs": [],
   "source": [
    "# ucitavanje csv s ociscenim rezultatima\n",
    "url_rez = 'G:\\\\..\\\\headlights_1000-9000_pref_cleaned.csv'\n",
    "pref_cleaned = pd.read_csv(url_rez, index_col=0)"
   ]
  },
  {
   "cell_type": "code",
   "execution_count": null,
   "metadata": {},
   "outputs": [],
   "source": [
    "# Verifikacijski data set - graf\n",
    "url_v =\"G:\\\\..\\\\headlights_edge_9000-13000.csv\"\n",
    "G_full = nx.read_edgelist(url_v, delimiter=',')"
   ]
  },
  {
   "cell_type": "code",
   "execution_count": null,
   "metadata": {},
   "outputs": [],
   "source": [
    "pref_cleaned = pref_cleaned[pref_cleaned.weight >339231]\n",
    "pref_cleaned.info()"
   ]
  },
  {
   "cell_type": "code",
   "execution_count": null,
   "metadata": {},
   "outputs": [],
   "source": [
    "# kreiranje grafa s predvidenim rezultatima\n",
    "# usporedivanje tog grafa s grafom koji sadrzi cijeli data set\n",
    "# prev_v = edge set s obrisanim weightom\n",
    "# G = graf koji se sastoji od punog data seta\n",
    "true_list = []\n",
    "pref_v = pref_cleaned.drop('weight', 1).values\n",
    "for i in range(0, len(pref_v)):\n",
    "    true_list.append(G_full.has_edge(*pref_v[i]))\n",
    "   \n",
    "true_list.count(True)  # broj tocno predvidenih edgeva\n"
   ]
  },
  {
   "cell_type": "code",
   "execution_count": null,
   "metadata": {},
   "outputs": [],
   "source": []
  }
 ],
 "metadata": {
  "hide_input": false,
  "kernelspec": {
   "display_name": "Python 3",
   "language": "python",
   "name": "python3"
  },
  "language_info": {
   "codemirror_mode": {
    "name": "ipython",
    "version": 3
   },
   "file_extension": ".py",
   "mimetype": "text/x-python",
   "name": "python",
   "nbconvert_exporter": "python",
   "pygments_lexer": "ipython3",
   "version": "3.6.7"
  },
  "toc": {
   "base_numbering": 1,
   "nav_menu": {},
   "number_sections": true,
   "sideBar": true,
   "skip_h1_title": false,
   "title_cell": "Table of Contents",
   "title_sidebar": "Contents",
   "toc_cell": false,
   "toc_position": {},
   "toc_section_display": true,
   "toc_window_display": true
  },
  "varInspector": {
   "cols": {
    "lenName": 16,
    "lenType": 16,
    "lenVar": 40
   },
   "kernels_config": {
    "python": {
     "delete_cmd_postfix": "",
     "delete_cmd_prefix": "del ",
     "library": "var_list.py",
     "varRefreshCmd": "print(var_dic_list())"
    },
    "r": {
     "delete_cmd_postfix": ") ",
     "delete_cmd_prefix": "rm(",
     "library": "var_list.r",
     "varRefreshCmd": "cat(var_dic_list()) "
    }
   },
   "types_to_exclude": [
    "module",
    "function",
    "builtin_function_or_method",
    "instance",
    "_Feature"
   ],
   "window_display": false
  }
 },
 "nbformat": 4,
 "nbformat_minor": 2
}
