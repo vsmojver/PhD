{
 "cells": [
  {
   "cell_type": "code",
   "execution_count": null,
   "metadata": {
    "ExecuteTime": {
     "end_time": "2019-08-09T16:42:48.965746Z",
     "start_time": "2019-08-09T16:42:46.122181Z"
    },
    "collapsed": true
   },
   "outputs": [],
   "source": [
    "#ovaj notebook convertira mrezu citata skinutu sa google patentsa (preko skripte) u oblik koji je čitljiv za network x\n",
    "import csv\n",
    "import pandas as pd\n",
    "import numpy as np\n",
    "import itertools as it"
   ]
  },
  {
   "cell_type": "code",
   "execution_count": 2,
   "metadata": {
    "ExecuteTime": {
     "end_time": "2019-08-09T17:01:53.250121Z",
     "start_time": "2019-08-09T17:01:53.246109Z"
    },
    "collapsed": true
   },
   "outputs": [],
   "source": [
    "url=\"C://..//AdMan_backward_sve.csv\"\n"
   ]
  },
  {
   "cell_type": "code",
   "execution_count": 3,
   "metadata": {
    "ExecuteTime": {
     "end_time": "2019-08-09T17:02:15.313484Z",
     "start_time": "2019-08-09T17:02:10.018502Z"
    },
    "collapsed": true
   },
   "outputs": [],
   "source": [
    "#pazi koji je delimiter \";\" ili \",\"\n",
    "#prvu liniju koristis kad treba preskocit redove, drugu kad ucitavas cijeli dset\n",
    "#skiprows=range(1,)\n",
    "#nrows\n",
    "A= pd.read_csv(url,index_col=1, delimiter=',', low_memory=False, skiprows= ,nrows=1000)\n",
    "#A= pd.read_csv(url,index_col=1, delimiter=',',  low_memory=False)\n",
    "A=A.drop(A.columns[0], axis=1)\n",
    "A=A.dropna(axis=1, how='all') #brise columne gdje nema citata\n",
    "A=A.dropna(axis=0, how='all') #brise redove gdje nema citata\n",
    "#A=A.fillna('nula')\n",
    "#A"
   ]
  },
  {
   "cell_type": "code",
   "execution_count": 4,
   "metadata": {
    "ExecuteTime": {
     "end_time": "2019-08-09T17:02:37.084001Z",
     "start_time": "2019-08-09T17:02:33.213217Z"
    }
   },
   "outputs": [
    {
     "data": {
      "text/plain": [
       "993"
      ]
     },
     "execution_count": 4,
     "metadata": {},
     "output_type": "execute_result"
    }
   ],
   "source": [
    "n=1                             #broj chunkova\n",
    "list_A=[A[i:i+n].dropna(axis=1) for i in range(0, A.shape[0], n)]\n",
    "len(list_A)"
   ]
  },
  {
   "cell_type": "code",
   "execution_count": 5,
   "metadata": {
    "ExecuteTime": {
     "end_time": "2019-08-09T17:03:02.518443Z",
     "start_time": "2019-08-09T17:03:02.416491Z"
    },
    "collapsed": true
   },
   "outputs": [],
   "source": [
    "edge=[[] for _ in range(len(list_A))]"
   ]
  },
  {
   "cell_type": "code",
   "execution_count": 6,
   "metadata": {
    "ExecuteTime": {
     "end_time": "2019-08-09T17:03:25.447452Z",
     "start_time": "2019-08-09T17:03:23.060668Z"
    },
    "collapsed": true
   },
   "outputs": [],
   "source": [
    "for a in range(0,len(list_A)):\n",
    "    #print(a)\n",
    "    for index, rows in list_A[a].iterrows():\n",
    "        for comb in (it.combinations(rows,2)):\n",
    "            edge[a].append(comb)  "
   ]
  },
  {
   "cell_type": "code",
   "execution_count": 7,
   "metadata": {
    "ExecuteTime": {
     "end_time": "2019-08-09T17:03:50.715032Z",
     "start_time": "2019-08-09T17:03:49.714552Z"
    },
    "collapsed": true
   },
   "outputs": [],
   "source": [
    "edge_spojeno=[j for i in edge for j in i]"
   ]
  },
  {
   "cell_type": "code",
   "execution_count": 8,
   "metadata": {
    "ExecuteTime": {
     "end_time": "2019-08-09T17:04:15.762212Z",
     "start_time": "2019-08-09T17:04:14.130147Z"
    },
    "collapsed": true
   },
   "outputs": [],
   "source": [
    "edge_pd=pd.DataFrame(edge_spojeno).dropna()\n",
    "#edge_pd"
   ]
  },
  {
   "cell_type": "code",
   "execution_count": 9,
   "metadata": {
    "ExecuteTime": {
     "end_time": "2019-08-09T17:04:51.128961Z",
     "start_time": "2019-08-09T17:04:37.053018Z"
    },
    "collapsed": true
   },
   "outputs": [],
   "source": [
    "edge_pd.to_csv(\"admna_edge_0-1000.csv\", header=False, index=False)"
   ]
  },
  {
   "cell_type": "code",
   "execution_count": null,
   "metadata": {
    "collapsed": true
   },
   "outputs": [],
   "source": []
  }
 ],
 "metadata": {
  "hide_input": false,
  "kernelspec": {
   "display_name": "Python 3",
   "language": "python",
   "name": "python3"
  },
  "language_info": {
   "codemirror_mode": {
    "name": "ipython",
    "version": 3
   },
   "file_extension": ".py",
   "mimetype": "text/x-python",
   "name": "python",
   "nbconvert_exporter": "python",
   "pygments_lexer": "ipython3",
   "version": "3.6.7"
  },
  "toc": {
   "base_numbering": 1,
   "nav_menu": {},
   "number_sections": true,
   "sideBar": true,
   "skip_h1_title": false,
   "title_cell": "Table of Contents",
   "title_sidebar": "Contents",
   "toc_cell": false,
   "toc_position": {},
   "toc_section_display": true,
   "toc_window_display": false
  },
  "varInspector": {
   "cols": {
    "lenName": 16,
    "lenType": 16,
    "lenVar": 40
   },
   "kernels_config": {
    "python": {
     "delete_cmd_postfix": "",
     "delete_cmd_prefix": "del ",
     "library": "var_list.py",
     "varRefreshCmd": "print(var_dic_list())"
    },
    "r": {
     "delete_cmd_postfix": ") ",
     "delete_cmd_prefix": "rm(",
     "library": "var_list.r",
     "varRefreshCmd": "cat(var_dic_list()) "
    }
   },
   "types_to_exclude": [
    "module",
    "function",
    "builtin_function_or_method",
    "instance",
    "_Feature"
   ],
   "window_display": false
  }
 },
 "nbformat": 4,
 "nbformat_minor": 2
}
