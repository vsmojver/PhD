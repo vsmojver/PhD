{
 "cells": [
  {
   "cell_type": "code",
   "execution_count": 1,
   "id": "3ba4d2e4",
   "metadata": {},
   "outputs": [],
   "source": [
    "import pandas as pd\n",
    "import numpy as np\n",
    "import itertools as it\n",
    "\n",
    "\n"
   ]
  },
  {
   "cell_type": "code",
   "execution_count": 10,
   "id": "28d25ab5",
   "metadata": {},
   "outputs": [],
   "source": [
    "url = 'C:\\\\Users\\\\vsmoj\\\\neuromorphic_backward_sve.csv'"
   ]
  },
  {
   "cell_type": "code",
   "execution_count": 17,
   "id": "924ed883",
   "metadata": {},
   "outputs": [],
   "source": [
    "# Load data and pre-process it\n",
    "A = pd.read_csv(url, index_col=1, low_memory=False,nrows=900) #,nrows=900\n",
    "A = A.drop(A.columns[0], axis=1)\n",
    "A = A.dropna(axis=1, how='all') # Drop columns with all NaN values\n",
    "A = A.dropna(axis=0, how='all') # Drop rows with all NaN values"
   ]
  },
  {
   "cell_type": "code",
   "execution_count": 12,
   "id": "3f6a366e",
   "metadata": {},
   "outputs": [],
   "source": [
    "n = 10  # Size of the chunks"
   ]
  },
  {
   "cell_type": "code",
   "execution_count": 18,
   "id": "4708f961",
   "metadata": {},
   "outputs": [],
   "source": [
    "# Generate chunks\n",
    "chunks = [A[i:i+n].dropna(axis=1) for i in range(0, A.shape[0], n)]"
   ]
  },
  {
   "cell_type": "code",
   "execution_count": 19,
   "id": "dd295cfd",
   "metadata": {},
   "outputs": [],
   "source": [
    "# Generate edges\n",
    "edges = []\n",
    "for chunk in chunks:\n",
    "    for _, row in chunk.iterrows():\n",
    "        row_edges = list(it.combinations(row.dropna(), 2))\n",
    "        edges.extend(row_edges)\n"
   ]
  },
  {
   "cell_type": "code",
   "execution_count": 20,
   "id": "e66eeb4c",
   "metadata": {},
   "outputs": [],
   "source": [
    "# Convert edges to DataFrame and drop any that contain NaN values\n",
    "edge_df = pd.DataFrame(edges).dropna()\n"
   ]
  },
  {
   "cell_type": "code",
   "execution_count": 21,
   "id": "156b3605",
   "metadata": {},
   "outputs": [],
   "source": [
    "# Export DataFrame to a CSV file\n",
    "edge_df.to_csv(\"neuromorphic_900.csv\", header=False, index=False)"
   ]
  },
  {
   "cell_type": "code",
   "execution_count": null,
   "id": "dcb05ddd",
   "metadata": {},
   "outputs": [],
   "source": []
  }
 ],
 "metadata": {
  "kernelspec": {
   "display_name": "Python 3 (ipykernel)",
   "language": "python",
   "name": "python3"
  },
  "language_info": {
   "codemirror_mode": {
    "name": "ipython",
    "version": 3
   },
   "file_extension": ".py",
   "mimetype": "text/x-python",
   "name": "python",
   "nbconvert_exporter": "python",
   "pygments_lexer": "ipython3",
   "version": "3.9.13"
  }
 },
 "nbformat": 4,
 "nbformat_minor": 5
}
