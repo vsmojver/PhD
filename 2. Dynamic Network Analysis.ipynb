{
 "cells": [
  {
   "cell_type": "code",
   "execution_count": null,
   "metadata": {
    "ExecuteTime": {
     "end_time": "2019-07-23T07:22:24.517087Z",
     "start_time": "2019-07-23T07:22:24.414110Z"
    }
   },
   "outputs": [],
   "source": [
    "%matplotlib\n",
    "import pandas as pd\n",
    "import collections\n",
    "import csv\n",
    "import matplotlib.pyplot as plt\n",
    "import seaborn as sns\n",
    "sns.set()\n",
    "import numpy as np\n",
    "from numpy import nan"
   ]
  },
  {
   "cell_type": "code",
   "execution_count": null,
   "metadata": {
    "ExecuteTime": {
     "end_time": "2019-07-23T07:22:26.470828Z",
     "start_time": "2019-07-23T07:22:26.466830Z"
    }
   },
   "outputs": [],
   "source": [
    "#ucitavanje podataka\n",
    "#url='D:...\\\\backward_test.csv'\n"
   ]
  },
  {
   "cell_type": "code",
   "execution_count": null,
   "metadata": {
    "ExecuteTime": {
     "end_time": "2019-07-23T07:22:36.815039Z",
     "start_time": "2019-07-23T07:22:27.272553Z"
    }
   },
   "outputs": [],
   "source": [
    "data=pd.read_csv(url, index_col=0, low_memory=False)\n",
    "#cisti zadnja 4 znaka iz citiranih patenata (lenova notacija)\n",
    "data.iloc[:,1:len(data.columns)]=data.iloc[:,1:len(data.columns)].applymap(lambda x: str(x)[:-4] if  x==x else None) \n",
    "data.fillna(value=nan, inplace=True)                                          #mijenja None u Nan/mozda postoji bolji nacin\n",
    "#data=pd.read_csv(url_test, delimiter=';')"
   ]
  },
  {
   "cell_type": "code",
   "execution_count": null,
   "metadata": {
    "ExecuteTime": {
     "end_time": "2019-07-23T07:22:48.184356Z",
     "start_time": "2019-07-23T07:22:48.163369Z"
    }
   },
   "outputs": [],
   "source": [
    "data.head()"
   ]
  },
  {
   "cell_type": "code",
   "execution_count": null,
   "metadata": {
    "ExecuteTime": {
     "end_time": "2019-07-23T07:22:50.949458Z",
     "start_time": "2019-07-23T07:22:50.946464Z"
    }
   },
   "outputs": [],
   "source": [
    "#data.drop(data.columns[0],1)"
   ]
  },
  {
   "cell_type": "code",
   "execution_count": null,
   "metadata": {
    "ExecuteTime": {
     "end_time": "2019-07-23T07:22:51.749936Z",
     "start_time": "2019-07-23T07:22:51.744940Z"
    }
   },
   "outputs": [],
   "source": [
    "data.index\n",
    "data.iloc[0,0]"
   ]
  },
  {
   "cell_type": "code",
   "execution_count": null,
   "metadata": {
    "ExecuteTime": {
     "end_time": "2019-07-23T07:25:53.018273Z",
     "start_time": "2019-07-23T07:22:53.320833Z"
    }
   },
   "outputs": [],
   "source": [
    "#number of nodes - np \n",
    "s=set()\n",
    "for a in range(0, len(data.index)):\n",
    "    for b in range(0, len(data.columns)):        #provjeri dali da iterira od 1 ili nula, iz nekog razloga cupa index u set\n",
    "        s.add(data.iloc[a,b])\n",
    "s={x for x in s if x==x}                          #cisti set od NAN, nemam pojma kako radi\n",
    "\n",
    "np=len(s)\n",
    "print(np)"
   ]
  },
  {
   "cell_type": "code",
   "execution_count": null,
   "metadata": {
    "ExecuteTime": {
     "end_time": "2019-07-23T07:31:47.403012Z",
     "start_time": "2019-07-23T07:25:53.190173Z"
    }
   },
   "outputs": [],
   "source": [
    "#number of edges - mp\n",
    "count=0\n",
    "for a in range(0, len(data.index)):\n",
    "    for b in range(0, len(data.columns)):    #takoder provjeri od kud ide counter\n",
    "        if data.iloc[a,b]==data.iloc[a,b]:  #provjerava jesu li vrijednosti nan\n",
    "            count=count+1\n",
    "mp=count - len(data.index)         #provjerit\n",
    "#mp=count \n",
    "        \n",
    "print(mp)"
   ]
  },
  {
   "cell_type": "code",
   "execution_count": null,
   "metadata": {
    "ExecuteTime": {
     "end_time": "2019-07-23T07:31:47.556925Z",
     "start_time": "2019-07-23T07:31:47.551928Z"
    }
   },
   "outputs": [],
   "source": [
    "#konstanta\n",
    "p=len(data.index)\n",
    "c=(mp-np)/p\n",
    "#print(c)\n",
    "print(c)\n",
    "print(p)"
   ]
  },
  {
   "cell_type": "code",
   "execution_count": null,
   "metadata": {
    "ExecuteTime": {
     "end_time": "2019-07-23T07:42:22.991209Z",
     "start_time": "2019-07-23T07:31:47.700844Z"
    },
    "scrolled": true
   },
   "outputs": [],
   "source": [
    "list1=[]\n",
    "tempset1=set()\n",
    "mi=0\n",
    "n=0\n",
    "for a in range(0, len(data.index)):\n",
    "    m=0\n",
    "    tempset=set()\n",
    "    for b in range(0, len(data.columns)):\n",
    "        if data.iloc[a,b]==data.iloc[a,b]:     #broj veza u koraku\n",
    "            tempset.add(data.iloc[a,b])\n",
    "        if (data.iloc[a,b]==data.iloc[a,b] and data.iloc[a,b] not in tempset1):     #broj novih nodeova u koraku, provjeri ovaj uvjet\n",
    "            n=n+1\n",
    "            tempset1.add(data.iloc[a,b])\n",
    "        m=len(tempset)-1\n",
    "    mi=mi+m\n",
    "    q=mi-n\n",
    "    deltaqi=(a+1)*c-q  \n",
    "    list1.append(deltaqi)\n",
    "    "
   ]
  },
  {
   "cell_type": "code",
   "execution_count": null,
   "metadata": {
    "ExecuteTime": {
     "end_time": "2019-07-23T08:11:44.754373Z",
     "start_time": "2019-07-23T08:11:44.656429Z"
    }
   },
   "outputs": [],
   "source": [
    "fig, ax =plt.subplots(1,1)\n",
    "ax.plot(list1)"
   ]
  },
  {
   "cell_type": "code",
   "execution_count": null,
   "metadata": {},
   "outputs": [],
   "source": [
    "#provjera - ispis broj veza po koraku -radi\n",
    "tempset1=set()\n",
    "counter=0\n",
    "for a in range(0, len(data.index)):\n",
    "    tempset=[]\n",
    "    for b in range(0, len(data.columns)):\n",
    "        if data.iloc[a,b]==data.iloc[a,b]:     #kumulativni broj veza\n",
    "            tempset.append(data.iloc[a,b])\n",
    "        m=len(tempset)-1\n",
    "    counter=counter+m\n",
    "    print(counter)  "
   ]
  },
  {
   "cell_type": "code",
   "execution_count": null,
   "metadata": {},
   "outputs": [],
   "source": [
    "#provjera - ispis broj novih nodeova\n",
    "tempset1=set()\n",
    "tempset=set()\n",
    "n=0\n",
    "for a in range(0, len(data.index)):\n",
    "    for b in range(0, len(data.columns)):\n",
    "        if (data.iloc[a,b]==data.iloc[a,b] and data.iloc[a,b] not in tempset1):     #broj novih nodeova u koraku, provjeri ovaj uvjet\n",
    "            n=n+1\n",
    "            tempset1.add(data.iloc[a,b])\n",
    "    print(n)"
   ]
  },
  {
   "cell_type": "code",
   "execution_count": null,
   "metadata": {},
   "outputs": [],
   "source": [
    "#print(list1)\n",
    "len(list1)"
   ]
  },
  {
   "cell_type": "code",
   "execution_count": null,
   "metadata": {},
   "outputs": [],
   "source": []
  }
 ],
 "metadata": {
  "hide_input": false,
  "kernelspec": {
   "display_name": "Python 3",
   "language": "python",
   "name": "python3"
  },
  "language_info": {
   "codemirror_mode": {
    "name": "ipython",
    "version": 3
   },
   "file_extension": ".py",
   "mimetype": "text/x-python",
   "name": "python",
   "nbconvert_exporter": "python",
   "pygments_lexer": "ipython3",
   "version": "3.6.7"
  },
  "toc": {
   "base_numbering": 1,
   "nav_menu": {},
   "number_sections": true,
   "sideBar": true,
   "skip_h1_title": false,
   "title_cell": "Table of Contents",
   "title_sidebar": "Contents",
   "toc_cell": false,
   "toc_position": {},
   "toc_section_display": true,
   "toc_window_display": false
  },
  "varInspector": {
   "cols": {
    "lenName": 16,
    "lenType": 16,
    "lenVar": 40
   },
   "kernels_config": {
    "python": {
     "delete_cmd_postfix": "",
     "delete_cmd_prefix": "del ",
     "library": "var_list.py",
     "varRefreshCmd": "print(var_dic_list())"
    },
    "r": {
     "delete_cmd_postfix": ") ",
     "delete_cmd_prefix": "rm(",
     "library": "var_list.r",
     "varRefreshCmd": "cat(var_dic_list()) "
    }
   },
   "types_to_exclude": [
    "module",
    "function",
    "builtin_function_or_method",
    "instance",
    "_Feature"
   ],
   "window_display": false
  }
 },
 "nbformat": 4,
 "nbformat_minor": 2
}
