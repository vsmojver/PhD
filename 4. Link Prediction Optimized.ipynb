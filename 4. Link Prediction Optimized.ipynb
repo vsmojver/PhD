{
 "cells": [
  {
   "cell_type": "code",
   "execution_count": null,
   "id": "13c7b4f0",
   "metadata": {},
   "outputs": [],
   "source": [
    "import csv\n",
    "import pandas as pd\n",
    "import networkx as nx"
   ]
  },
  {
   "cell_type": "code",
   "execution_count": null,
   "id": "e0f93a04",
   "metadata": {},
   "outputs": [],
   "source": [
    "#Train dataset\n",
    "url = 'C:\\\\Users\\\\vsmoj\\\\neuromorphic_900.csv'\n"
   ]
  },
  {
   "cell_type": "code",
   "execution_count": null,
   "id": "c17ce38d",
   "metadata": {},
   "outputs": [],
   "source": [
    "# Load dataset for link prediction\n",
    "G = nx.read_edgelist(url, delimiter=',')"
   ]
  },
  {
   "cell_type": "code",
   "execution_count": null,
   "id": "983c9eb2",
   "metadata": {},
   "outputs": [],
   "source": [
    "# Perform link prediction using several methods\n",
    "preds = [\n",
    "    nx.preferential_attachment(G),\n",
    "    nx.jaccard_coefficient(G),\n",
    "    nx.resource_allocation_index(G),\n",
    "    nx.adamic_adar_index(G)\n",
    "]"
   ]
  },
  {
   "cell_type": "code",
   "execution_count": null,
   "id": "88f13380",
   "metadata": {},
   "outputs": [],
   "source": [
    "# Save the predictions to csv\n",
    "for pred, filename in zip(preds, ['pref', 'jacc', 'rai', 'adamic']):\n",
    "    with open(f\"neuromorphic_900_{filename}.csv\", \"w\", newline='') as f:\n",
    "        writer = csv.writer(f)\n",
    "        writer.writerows(pred)"
   ]
  },
  {
   "cell_type": "code",
   "execution_count": null,
   "id": "f1edc8f8",
   "metadata": {},
   "outputs": [],
   "source": [
    "# VERIFICATION\n",
    "url_r = \"C:\\\\Users\\\\vsmoj\\\\neuromorphic_900_adamic.csv\"\n",
    "chunksize = 100000\n",
    "chunks = []\n",
    "counter=0\n",
    "for chunk in pd.read_csv(url_r, delimiter=',', chunksize=chunksize, header=0, names=['patent1', 'patent2', 'weight'], low_memory=False):\n",
    "    chunks.append(chunk)\n",
    "    counter += 1\n",
    "    print(counter)\n",
    "df = pd.concat(chunks, axis=0)"
   ]
  },
  {
   "cell_type": "code",
   "execution_count": null,
   "id": "bc94b87f",
   "metadata": {},
   "outputs": [],
   "source": [
    "# Max value of similarity measure\n",
    "df.max()"
   ]
  },
  {
   "cell_type": "code",
   "execution_count": null,
   "id": "55b35f30",
   "metadata": {},
   "outputs": [],
   "source": [
    "# Filter results\n",
    "df = df[df['weight'] > 1.3]\n",
    "df.to_csv('neuromorphic_900_adamic_cleaned.csv', index=False)"
   ]
  },
  {
   "cell_type": "code",
   "execution_count": null,
   "id": "ded9ba35",
   "metadata": {},
   "outputs": [],
   "source": [
    "# Load cleaned results\n",
    "df = pd.read_csv('neuromorphic_900_adamic_cleaned.csv')"
   ]
  },
  {
   "cell_type": "code",
   "execution_count": null,
   "id": "acc2be9b",
   "metadata": {},
   "outputs": [],
   "source": [
    "# Verification dataset - full dataset\n",
    "url_v='C:\\\\Users\\\\vsmoj\\\\neuromorphic_all.csv'\n",
    "G_full = nx.read_edgelist(url_v, delimiter=',')\n"
   ]
  },
  {
   "cell_type": "code",
   "execution_count": null,
   "id": "ad182bcc",
   "metadata": {},
   "outputs": [],
   "source": [
    "df = df[df['weight'] > 0.68]\n",
    "\n",
    "# Check predicted links against validation graph\n",
    "true_list = [G_full.has_edge(*row) for row in df[['patent1', 'patent2']].values]\n",
    "print(true_list.count(True))  # Number of correctly predicted edges"
   ]
  },
  {
   "cell_type": "code",
   "execution_count": null,
   "id": "10e1bb6d",
   "metadata": {},
   "outputs": [],
   "source": []
  }
 ],
 "metadata": {
  "kernelspec": {
   "display_name": "Python 3 (ipykernel)",
   "language": "python",
   "name": "python3"
  },
  "language_info": {
   "codemirror_mode": {
    "name": "ipython",
    "version": 3
   },
   "file_extension": ".py",
   "mimetype": "text/x-python",
   "name": "python",
   "nbconvert_exporter": "python",
   "pygments_lexer": "ipython3",
   "version": "3.9.13"
  }
 },
 "nbformat": 4,
 "nbformat_minor": 5
}
