{
 "cells": [
  {
   "cell_type": "code",
   "execution_count": null,
   "metadata": {},
   "outputs": [],
   "source": [
    "%matplotlib\n",
    "import matplotlib.pyplot as plt\n",
    "import seaborn as sns\n",
    "import numpy as np\n",
    "import math\n",
    "sns.set_palette(\"pastel\")\n",
    "import pandas as pd\n",
    "\n",
    "\n",
    "#https://www.python-graph-gallery.com\n"
   ]
  },
  {
   "cell_type": "code",
   "execution_count": null,
   "metadata": {},
   "outputs": [],
   "source": [
    "#ucitavanja podataka koje eksportira lens\n",
    "url= \"G:\\\\...\\\\Neuromorphic Hardware.xlsx\"\n",
    "data=pd.read_excel(url)\n",
    "\n",
    "#ciscenje podataka i brisanje stupaca koji su bespotrebni\n",
    "data.drop(['Kind', 'Lens ID','Priority Numbers','URL','Type', 'Sequence Count'], axis=1);"
   ]
  },
  {
   "cell_type": "code",
   "execution_count": null,
   "metadata": {},
   "outputs": [],
   "source": [
    "#PLOTANJE S KRIVULJE - TLC ANALIZA (mozda dvije analize, po godinama i datumu)\n",
    "\n",
    "years=data['Publication Year']\n",
    "years=years.value_counts(sort=False).to_frame()\n",
    "years.sort_index(inplace=True)\n",
    "years['Sum']=0\n",
    "years.iloc[0,1]=years.iloc[0,0]\n",
    "for i in range(1, len(years.index)):                                          #petlja koja sumira broj patenata po godini\n",
    "    years.iloc[i,1]=years.iloc[i-1,1]+years.iloc[i,0]\n",
    "years.drop('Publication Year', axis=1, inplace=True)\n",
    "#years"
   ]
  },
  {
   "cell_type": "code",
   "execution_count": null,
   "metadata": {},
   "outputs": [],
   "source": [
    "#smanjuje broj točaka za plotanje, od pocetne do zadnje godine kopira svaku 5. godinu\n",
    "slice_list=[*range(1990, 2021, 1), 2021] \n",
    "years_plot=years.iloc[years.index.isin(slice_list)]\n",
    "#years_plot\n"
   ]
  },
  {
   "cell_type": "code",
   "execution_count": null,
   "metadata": {},
   "outputs": [],
   "source": [
    "#Custom axis title\n",
    "plt.xlabel('Cumulative R&D time', fontweight='bold', color = 'royalblue',\n",
    "           fontsize='17', horizontalalignment='left')\n",
    "plt.ylabel('Cumulative number of patents', \n",
    "           fontweight='bold', color = 'royalblue', fontsize='17', horizontalalignment='center')\n",
    "\n",
    "#custom ticks\n",
    "#https://www.python-graph-gallery.com/191-custom-axis-on-matplotlib-chart\n",
    "plt.tick_params(axis='both',\n",
    "               which='both',\n",
    "               bottom=True,\n",
    "               top=True,\n",
    "               labelbottom=True,\n",
    "               right=False,\n",
    "               left=False,\n",
    "               labelleft=True,\n",
    "               labelsize='16')\n",
    "plt.xticks(rotation=45)\n",
    "plt.grid(True)\n",
    "\n",
    "#vertical lines\n",
    "#plt.vlines(x=150,ymin=0, ymax=0.1192, colors=\"red\", linestyle=\"solid\", label='', alpha=0.3)\n",
    "#plt.hlines(y=9000,xmin=1900, xmax=2020, colors=\"red\", linestyle=\"solid\", label='', alpha=0.3)\n",
    "\n",
    "#show graph\n",
    "plt.plot(years_plot, color=\"royalblue\", linewidth=4, alpha=0.7)\n",
    "plt.show()\n"
   ]
  },
  {
   "cell_type": "code",
   "execution_count": null,
   "metadata": {},
   "outputs": [],
   "source": []
  },
  {
   "cell_type": "code",
   "execution_count": null,
   "metadata": {},
   "outputs": [],
   "source": []
  }
 ],
 "metadata": {
  "kernelspec": {
   "display_name": "Python 3",
   "language": "python",
   "name": "python3"
  },
  "language_info": {
   "codemirror_mode": {
    "name": "ipython",
    "version": 3
   },
   "file_extension": ".py",
   "mimetype": "text/x-python",
   "name": "python",
   "nbconvert_exporter": "python",
   "pygments_lexer": "ipython3",
   "version": "3.6.7"
  }
 },
 "nbformat": 4,
 "nbformat_minor": 4
}
